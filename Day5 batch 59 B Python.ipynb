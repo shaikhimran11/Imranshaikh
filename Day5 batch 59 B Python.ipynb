{
 "cells": [
  {
   "cell_type": "code",
   "execution_count": 3,
   "id": "84de1e07",
   "metadata": {},
   "outputs": [
    {
     "name": "stdout",
     "output_type": "stream",
     "text": [
      "['rajesh', 'naveed', 'vindhya', 'amar', 'kunal', 'radha', 'nikhil']\n"
     ]
    }
   ],
   "source": [
    "students =['rajesh', 'naveed', 'vindhya','amar', 'kunal', 'radha', 'nikhil']\n",
    "print(students)"
   ]
  },
  {
   "cell_type": "code",
   "execution_count": null,
   "id": "fd70cf02",
   "metadata": {},
   "outputs": [],
   "source": [
    "# req : i wanted to print naveed name, what is the index i have to use..?\n"
   ]
  },
  {
   "cell_type": "code",
   "execution_count": 4,
   "id": "d061669f",
   "metadata": {},
   "outputs": [
    {
     "name": "stdout",
     "output_type": "stream",
     "text": [
      "naveed\n"
     ]
    }
   ],
   "source": [
    "print(students[1])"
   ]
  },
  {
   "cell_type": "code",
   "execution_count": 5,
   "id": "fb8458b6",
   "metadata": {},
   "outputs": [
    {
     "name": "stdout",
     "output_type": "stream",
     "text": [
      "Naveed\n"
     ]
    }
   ],
   "source": [
    "\n",
    "print(students[1].title())"
   ]
  },
  {
   "cell_type": "code",
   "execution_count": 12,
   "id": "ace1692c",
   "metadata": {},
   "outputs": [
    {
     "name": "stdout",
     "output_type": "stream",
     "text": [
      "('Kia', 'audi', 'ciaz', 'benz', 'suzuki', 'bmw')\n"
     ]
    }
   ],
   "source": [
    "cars= ('Kia', 'audi', 'ciaz', 'benz', 'suzuki', 'bmw')\n",
    "\n",
    "print(cars)"
   ]
  },
  {
   "cell_type": "code",
   "execution_count": null,
   "id": "cd269dfb",
   "metadata": {},
   "outputs": [],
   "source": [
    "1.temp approch--------> sorted=====> we can retain the original order\n",
    "2. permanent approach ----> sort======> changes are applied permanently"
   ]
  },
  {
   "cell_type": "code",
   "execution_count": 11,
   "id": "bf17f59a",
   "metadata": {},
   "outputs": [
    {
     "name": "stdout",
     "output_type": "stream",
     "text": [
      "('Kia', 'audi', 'ciaz', 'benz', 'suzuki', 'BMW')\n"
     ]
    }
   ],
   "source": [
    "print(cars)"
   ]
  },
  {
   "cell_type": "code",
   "execution_count": null,
   "id": "59c2975b",
   "metadata": {},
   "outputs": [],
   "source": [
    "benz and kia======> e and m"
   ]
  },
  {
   "cell_type": "code",
   "execution_count": 13,
   "id": "0d04ca75",
   "metadata": {},
   "outputs": [
    {
     "name": "stdout",
     "output_type": "stream",
     "text": [
      "['Kia', 'audi', 'benz', 'bmw', 'ciaz', 'suzuki']\n"
     ]
    }
   ],
   "source": [
    "print(sorted(cars))"
   ]
  },
  {
   "cell_type": "code",
   "execution_count": null,
   "id": "a15f0e0e",
   "metadata": {},
   "outputs": [],
   "source": []
  },
  {
   "cell_type": "code",
   "execution_count": null,
   "id": "b71db13b",
   "metadata": {},
   "outputs": [],
   "source": [
    "cars.sort()"
   ]
  },
  {
   "cell_type": "code",
   "execution_count": 18,
   "id": "8fc41ad6",
   "metadata": {},
   "outputs": [
    {
     "name": "stdout",
     "output_type": "stream",
     "text": [
      "('Kia', 'audi', 'ciaz', 'benz', 'suzuki', 'bmw')\n"
     ]
    }
   ],
   "source": [
    "print(cars)"
   ]
  },
  {
   "cell_type": "code",
   "execution_count": 19,
   "id": "3ac5615f",
   "metadata": {},
   "outputs": [
    {
     "name": "stdout",
     "output_type": "stream",
     "text": [
      "('Kia', 'audi', 'ciaz', 'benz', 'suzuki', 'bmw')\n"
     ]
    }
   ],
   "source": [
    "print(cars)"
   ]
  },
  {
   "cell_type": "code",
   "execution_count": 20,
   "id": "990c3426",
   "metadata": {},
   "outputs": [
    {
     "name": "stdout",
     "output_type": "stream",
     "text": [
      "['Kia', 'audi', 'benz', 'bmw', 'ciaz', 'suzuki']\n"
     ]
    }
   ],
   "source": [
    "print(sorted(cars))"
   ]
  },
  {
   "cell_type": "code",
   "execution_count": 21,
   "id": "a7a50314",
   "metadata": {},
   "outputs": [
    {
     "name": "stdout",
     "output_type": "stream",
     "text": [
      "('Kia', 'audi', 'ciaz', 'benz', 'suzuki', 'bmw')\n"
     ]
    }
   ],
   "source": [
    "print(cars)"
   ]
  },
  {
   "cell_type": "code",
   "execution_count": null,
   "id": "ee82413f",
   "metadata": {},
   "outputs": [],
   "source": [
    "cars.reverse()"
   ]
  },
  {
   "cell_type": "code",
   "execution_count": 24,
   "id": "7231a1ae",
   "metadata": {},
   "outputs": [
    {
     "name": "stdout",
     "output_type": "stream",
     "text": [
      "('Kia', 'audi', 'ciaz', 'benz', 'suzuki', 'bmw')\n"
     ]
    }
   ],
   "source": [
    "print(cars)"
   ]
  },
  {
   "cell_type": "code",
   "execution_count": 25,
   "id": "d4c4eef6",
   "metadata": {},
   "outputs": [
    {
     "data": {
      "text/plain": [
       "6"
      ]
     },
     "execution_count": 25,
     "metadata": {},
     "output_type": "execute_result"
    }
   ],
   "source": [
    "len(cars)"
   ]
  },
  {
   "cell_type": "code",
   "execution_count": null,
   "id": "eb25dc0a",
   "metadata": {},
   "outputs": [],
   "source": []
  },
  {
   "cell_type": "code",
   "execution_count": null,
   "id": "c2f864c4",
   "metadata": {},
   "outputs": [],
   "source": [
    "slicing of the lsit datatypes"
   ]
  },
  {
   "cell_type": "code",
   "execution_count": 26,
   "id": "be149752",
   "metadata": {},
   "outputs": [
    {
     "name": "stdout",
     "output_type": "stream",
     "text": [
      "['rajesh', 'naveed', 'vindhya', 'amar', 'kunal', 'radha', 'nikhil']\n"
     ]
    }
   ],
   "source": [
    "print(students)"
   ]
  },
  {
   "cell_type": "code",
   "execution_count": null,
   "id": "0a9e79ea",
   "metadata": {},
   "outputs": [],
   "source": [
    "#general sysntax of slicing"
   ]
  },
  {
   "cell_type": "code",
   "execution_count": null,
   "id": "a6b5cc29",
   "metadata": {},
   "outputs": [],
   "source": [
    "print(list[starvalue :stop value:stop count])"
   ]
  },
  {
   "cell_type": "code",
   "execution_count": null,
   "id": "ed431f85",
   "metadata": {},
   "outputs": [],
   "source": [
    "Note : stop value is always exclusive+ 1 to include the stop value\n",
    "\n"
   ]
  },
  {
   "cell_type": "code",
   "execution_count": null,
   "id": "0a2593bd",
   "metadata": {},
   "outputs": [],
   "source": [
    "# req : I want to include rajesh and naveed in a list..?"
   ]
  },
  {
   "cell_type": "code",
   "execution_count": 28,
   "id": "4c4f869e",
   "metadata": {},
   "outputs": [
    {
     "name": "stdout",
     "output_type": "stream",
     "text": [
      "['rajesh']\n"
     ]
    },
    {
     "data": {
      "text/plain": [
       "['rajesh']"
      ]
     },
     "execution_count": 28,
     "metadata": {},
     "output_type": "execute_result"
    }
   ],
   "source": [
    "print(students[0:1])\n",
    "['rajesh']"
   ]
  },
  {
   "cell_type": "code",
   "execution_count": 37,
   "id": "d9fd0a8d",
   "metadata": {},
   "outputs": [
    {
     "name": "stdout",
     "output_type": "stream",
     "text": [
      "['rajesh', 'naveed']\n"
     ]
    }
   ],
   "source": [
    "print(students[0:2])"
   ]
  },
  {
   "cell_type": "code",
   "execution_count": 38,
   "id": "ce9edd15",
   "metadata": {},
   "outputs": [
    {
     "name": "stdout",
     "output_type": "stream",
     "text": [
      "['vindhya', 'amar']\n"
     ]
    }
   ],
   "source": [
    "print(students[2:4])"
   ]
  },
  {
   "cell_type": "code",
   "execution_count": 39,
   "id": "2d89f095",
   "metadata": {},
   "outputs": [
    {
     "name": "stdout",
     "output_type": "stream",
     "text": [
      "['kunal', 'radha']\n"
     ]
    }
   ],
   "source": [
    "print(students[4:6])"
   ]
  },
  {
   "cell_type": "code",
   "execution_count": 40,
   "id": "8a2ce5cc",
   "metadata": {},
   "outputs": [
    {
     "name": "stdout",
     "output_type": "stream",
     "text": [
      "['rajesh', 'vindhya', 'kunal', 'nikhil']\n"
     ]
    }
   ],
   "source": [
    "\n",
    "print(students[0:8:2])"
   ]
  },
  {
   "cell_type": "code",
   "execution_count": null,
   "id": "8d06e3c8",
   "metadata": {},
   "outputs": [],
   "source": []
  }
 ],
 "metadata": {
  "kernelspec": {
   "display_name": "Python 3 (ipykernel)",
   "language": "python",
   "name": "python3"
  },
  "language_info": {
   "codemirror_mode": {
    "name": "ipython",
    "version": 3
   },
   "file_extension": ".py",
   "mimetype": "text/x-python",
   "name": "python",
   "nbconvert_exporter": "python",
   "pygments_lexer": "ipython3",
   "version": "3.9.12"
  }
 },
 "nbformat": 4,
 "nbformat_minor": 5
}
