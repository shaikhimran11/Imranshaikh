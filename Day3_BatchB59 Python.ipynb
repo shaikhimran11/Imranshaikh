{
 "cells": [
  {
   "cell_type": "code",
   "execution_count": null,
   "id": "ad11790f",
   "metadata": {},
   "outputs": [],
   "source": [
    "Introduction to String method"
   ]
  },
  {
   "cell_type": "code",
   "execution_count": 1,
   "id": "f73fc09a",
   "metadata": {},
   "outputs": [
    {
     "name": "stdout",
     "output_type": "stream",
     "text": [
      "Kunal\n"
     ]
    }
   ],
   "source": [
    "name='Kunal'\n",
    "print(name)"
   ]
  },
  {
   "cell_type": "code",
   "execution_count": 2,
   "id": "76f8a53e",
   "metadata": {},
   "outputs": [
    {
     "data": {
      "text/plain": [
       "str"
      ]
     },
     "execution_count": 2,
     "metadata": {},
     "output_type": "execute_result"
    }
   ],
   "source": [
    "type(name)"
   ]
  },
  {
   "cell_type": "code",
   "execution_count": null,
   "id": "09b38fed",
   "metadata": {},
   "outputs": [],
   "source": [
    "Sting........>str"
   ]
  },
  {
   "cell_type": "code",
   "execution_count": 5,
   "id": "0bc3ceba",
   "metadata": {},
   "outputs": [
    {
     "name": "stdout",
     "output_type": "stream",
     "text": [
      "Ajay\n"
     ]
    }
   ],
   "source": [
    "name1='Ajay'\n",
    "print(name1)"
   ]
  },
  {
   "cell_type": "code",
   "execution_count": 6,
   "id": "bb226429",
   "metadata": {},
   "outputs": [
    {
     "data": {
      "text/plain": [
       "str"
      ]
     },
     "execution_count": 6,
     "metadata": {},
     "output_type": "execute_result"
    }
   ],
   "source": [
    "type(name1)"
   ]
  },
  {
   "cell_type": "code",
   "execution_count": 7,
   "id": "8166868f",
   "metadata": {},
   "outputs": [
    {
     "name": "stdout",
     "output_type": "stream",
     "text": [
      "rajesh Chavan\n"
     ]
    }
   ],
   "source": [
    "fullname='rajesh Chavan'\n",
    "print(fullname)"
   ]
  },
  {
   "cell_type": "code",
   "execution_count": 8,
   "id": "bd9d172b",
   "metadata": {},
   "outputs": [
    {
     "name": "stdout",
     "output_type": "stream",
     "text": [
      "Rajesh Chavan\n"
     ]
    }
   ],
   "source": [
    "print(fullname.title())"
   ]
  },
  {
   "cell_type": "code",
   "execution_count": null,
   "id": "77963133",
   "metadata": {},
   "outputs": [],
   "source": [
    "#I want to get the fullname in capital leter fornat..//"
   ]
  },
  {
   "cell_type": "code",
   "execution_count": 9,
   "id": "e3512254",
   "metadata": {},
   "outputs": [
    {
     "name": "stdout",
     "output_type": "stream",
     "text": [
      "RAJESH CHAVAN\n"
     ]
    }
   ],
   "source": [
    "print(fullname.upper())"
   ]
  },
  {
   "cell_type": "code",
   "execution_count": 10,
   "id": "0d608c35",
   "metadata": {},
   "outputs": [
    {
     "name": "stdout",
     "output_type": "stream",
     "text": [
      "rajesh chavan\n"
     ]
    }
   ],
   "source": [
    "print(fullname.lower())"
   ]
  },
  {
   "cell_type": "code",
   "execution_count": null,
   "id": "9c4fe06b",
   "metadata": {},
   "outputs": [],
   "source": [
    "introduction to Strings:"
   ]
  },
  {
   "cell_type": "code",
   "execution_count": null,
   "id": "a3ac275e",
   "metadata": {},
   "outputs": [],
   "source": [
    "f\"custom message {placeholder1} {placeholder2}.....{placeholder.....n}\""
   ]
  },
  {
   "cell_type": "code",
   "execution_count": 36,
   "id": "ffd61064",
   "metadata": {},
   "outputs": [
    {
     "name": "stdout",
     "output_type": "stream",
     "text": [
      "amit kumar\n"
     ]
    }
   ],
   "source": [
    "firstname='amit'\n",
    "lastname='kumar'\n",
    "print(firstname, lastname)"
   ]
  },
  {
   "cell_type": "code",
   "execution_count": null,
   "id": "4f113ec8",
   "metadata": {},
   "outputs": [],
   "source": []
  },
  {
   "cell_type": "code",
   "execution_count": null,
   "id": "6cdd59b5",
   "metadata": {},
   "outputs": [],
   "source": [
    "#get the full name..??"
   ]
  },
  {
   "cell_type": "code",
   "execution_count": 39,
   "id": "2bbc6789",
   "metadata": {},
   "outputs": [
    {
     "name": "stdout",
     "output_type": "stream",
     "text": [
      "(firstname) (lastname)\n"
     ]
    }
   ],
   "source": [
    "full_name=f\"(firstname) (lastname)\"\n",
    "print(full_name)"
   ]
  },
  {
   "cell_type": "code",
   "execution_count": null,
   "id": "2af49474",
   "metadata": {},
   "outputs": [],
   "source": [
    "Adding whitespace to String:\n",
    "    "
   ]
  },
  {
   "cell_type": "code",
   "execution_count": 40,
   "id": "65d8d8b5",
   "metadata": {},
   "outputs": [
    {
     "name": "stdout",
     "output_type": "stream",
     "text": [
      "favourite_llanguage:pythonC++Javapascalcobal\n"
     ]
    }
   ],
   "source": [
    "print('favourite_llanguage:pythonC++Javacpascalcobal')"
   ]
  },
  {
   "cell_type": "code",
   "execution_count": 42,
   "id": "840d8eeb",
   "metadata": {},
   "outputs": [
    {
     "name": "stdout",
     "output_type": "stream",
     "text": [
      "favourite_llanguage\n",
      " python\n",
      " C++\n",
      " Java\n",
      " pascal\n",
      " cobal\n"
     ]
    }
   ],
   "source": [
    "print('favourite_llanguage\\n python\\n C++\\n Java\\n pascal\\n cobal')"
   ]
  },
  {
   "cell_type": "code",
   "execution_count": null,
   "id": "56004039",
   "metadata": {},
   "outputs": [],
   "source": [
    "\\t ------> tab delimeter "
   ]
  },
  {
   "cell_type": "code",
   "execution_count": null,
   "id": "170b19b1",
   "metadata": {},
   "outputs": [],
   "source": []
  },
  {
   "cell_type": "code",
   "execution_count": null,
   "id": "43c82f71",
   "metadata": {},
   "outputs": [],
   "source": []
  }
 ],
 "metadata": {
  "kernelspec": {
   "display_name": "Python 3 (ipykernel)",
   "language": "python",
   "name": "python3"
  },
  "language_info": {
   "codemirror_mode": {
    "name": "ipython",
    "version": 3
   },
   "file_extension": ".py",
   "mimetype": "text/x-python",
   "name": "python",
   "nbconvert_exporter": "python",
   "pygments_lexer": "ipython3",
   "version": "3.9.12"
  }
 },
 "nbformat": 4,
 "nbformat_minor": 5
}
