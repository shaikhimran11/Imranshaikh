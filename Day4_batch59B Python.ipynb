{
 "cells": [
  {
   "cell_type": "code",
   "execution_count": null,
   "id": "035a75b3",
   "metadata": {},
   "outputs": [],
   "source": [
    "introduction to list datatypes:\n",
    "\n"
   ]
  },
  {
   "cell_type": "code",
   "execution_count": null,
   "id": "2f8a8f75",
   "metadata": {},
   "outputs": [],
   "source": [
    "defination : A list is a collection of items declared in a particular order.\n",
    "\n",
    "classification : it is classified as mutable datatype\n",
    "\n",
    "how to declare the list daatype-------?[]"
   ]
  },
  {
   "cell_type": "code",
   "execution_count": 4,
   "id": "0d3612d9",
   "metadata": {},
   "outputs": [
    {
     "name": "stdout",
     "output_type": "stream",
     "text": [
      "['arvind', 'shafi', 'jhon', 'david', 'nusrat', 'aradhya', 'nitya', 'asna']\n"
     ]
    }
   ],
   "source": [
    "students=[ 'arvind','shafi', 'jhon', 'david', 'nusrat', 'aradhya', 'nitya', 'asna'] # 0,1,2,3,4,5,6,7\n",
    "print(students)"
   ]
  },
  {
   "cell_type": "code",
   "execution_count": 5,
   "id": "a2c7ca49",
   "metadata": {},
   "outputs": [
    {
     "name": "stdout",
     "output_type": "stream",
     "text": [
      "['arvind', 'shafi', 'jhon', 'david', 'nusrat', 'aradhya', 'nitya', 'asna']\n"
     ]
    }
   ],
   "source": [
    "print(students)"
   ]
  },
  {
   "cell_type": "code",
   "execution_count": 6,
   "id": "0a7f9824",
   "metadata": {},
   "outputs": [
    {
     "data": {
      "text/plain": [
       "list"
      ]
     },
     "execution_count": 6,
     "metadata": {},
     "output_type": "execute_result"
    }
   ],
   "source": [
    "type (students)"
   ]
  },
  {
   "cell_type": "code",
   "execution_count": null,
   "id": "efe1024f",
   "metadata": {},
   "outputs": [],
   "source": [
    "\n",
    "#how to access the above elements from the list...?"
   ]
  },
  {
   "cell_type": "code",
   "execution_count": null,
   "id": "13583725",
   "metadata": {},
   "outputs": [],
   "source": [
    "introduction  to indexing : 0,1,2,3........"
   ]
  },
  {
   "cell_type": "code",
   "execution_count": null,
   "id": "c5c8b67c",
   "metadata": {},
   "outputs": [],
   "source": [
    "\n",
    "#req : i wanted to access john name from the above list..?"
   ]
  },
  {
   "cell_type": "code",
   "execution_count": 7,
   "id": "652470f0",
   "metadata": {},
   "outputs": [
    {
     "name": "stdout",
     "output_type": "stream",
     "text": [
      "jhon\n"
     ]
    }
   ],
   "source": [
    "print(students[2])"
   ]
  },
  {
   "cell_type": "code",
   "execution_count": null,
   "id": "c838d2b3",
   "metadata": {},
   "outputs": [],
   "source": [
    "i wanted to access aradhya name from the above list..?"
   ]
  },
  {
   "cell_type": "code",
   "execution_count": 8,
   "id": "388703dd",
   "metadata": {},
   "outputs": [
    {
     "name": "stdout",
     "output_type": "stream",
     "text": [
      "aradhya\n"
     ]
    }
   ],
   "source": [
    "print(students[5])"
   ]
  },
  {
   "cell_type": "code",
   "execution_count": null,
   "id": "31835a6b",
   "metadata": {},
   "outputs": [],
   "source": [
    "1.how to add new elements to the list\n",
    "2.how to modify the elements in the list\n",
    "3.how to delete the elements in the list"
   ]
  },
  {
   "cell_type": "code",
   "execution_count": 9,
   "id": "266f6326",
   "metadata": {},
   "outputs": [
    {
     "name": "stdout",
     "output_type": "stream",
     "text": [
      "['arvind', 'shafi', 'jhon', 'david', 'nusrat', 'aradhya', 'nitya', 'asna']\n"
     ]
    }
   ],
   "source": [
    "print(students)"
   ]
  },
  {
   "cell_type": "code",
   "execution_count": 10,
   "id": "53f4f010",
   "metadata": {},
   "outputs": [],
   "source": [
    "students.append('sachin')"
   ]
  },
  {
   "cell_type": "code",
   "execution_count": 11,
   "id": "37ba8782",
   "metadata": {},
   "outputs": [
    {
     "name": "stdout",
     "output_type": "stream",
     "text": [
      "['arvind', 'shafi', 'jhon', 'david', 'nusrat', 'aradhya', 'nitya', 'asna', 'sachin']\n"
     ]
    }
   ],
   "source": [
    "print(students)"
   ]
  },
  {
   "cell_type": "code",
   "execution_count": null,
   "id": "e90d4df1",
   "metadata": {},
   "outputs": [],
   "source": [
    "#req I want  to add 'lavanya' name to the above list...."
   ]
  },
  {
   "cell_type": "code",
   "execution_count": 15,
   "id": "3eeccb30",
   "metadata": {},
   "outputs": [],
   "source": [
    "students.append('lavanya')"
   ]
  },
  {
   "cell_type": "code",
   "execution_count": 17,
   "id": "d831a36e",
   "metadata": {},
   "outputs": [
    {
     "name": "stdout",
     "output_type": "stream",
     "text": [
      "['arvind', 'shafi', 'jhon', 'david', 'nusrat', 'aradhya', 'nitya', 'asna', 'sachin', 'lavanya', 'lavanya', 'lavanya']\n"
     ]
    }
   ],
   "source": [
    "print(students)"
   ]
  },
  {
   "cell_type": "code",
   "execution_count": 18,
   "id": "930131ea",
   "metadata": {},
   "outputs": [
    {
     "name": "stdout",
     "output_type": "stream",
     "text": [
      "jhon\n"
     ]
    }
   ],
   "source": [
    "print(students[2])"
   ]
  },
  {
   "cell_type": "code",
   "execution_count": 23,
   "id": "a42856f6",
   "metadata": {},
   "outputs": [
    {
     "name": "stdout",
     "output_type": "stream",
     "text": [
      "Chetan\n"
     ]
    }
   ],
   "source": [
    "students[2]='Chetan'\n",
    "print(students[2])\n"
   ]
  },
  {
   "cell_type": "code",
   "execution_count": 24,
   "id": "736213f8",
   "metadata": {},
   "outputs": [
    {
     "name": "stdout",
     "output_type": "stream",
     "text": [
      "Chetan\n"
     ]
    }
   ],
   "source": [
    "print(students[2])"
   ]
  },
  {
   "cell_type": "code",
   "execution_count": 25,
   "id": "8d6394de",
   "metadata": {},
   "outputs": [
    {
     "name": "stdout",
     "output_type": "stream",
     "text": [
      "['arvind', 'shafi', 'Chetan', 'david', 'nusrat', 'aradhya', 'nitya', 'asna', 'sachin', 'lavanya', 'lavanya', 'lavanya']\n"
     ]
    }
   ],
   "source": [
    "print(students)"
   ]
  },
  {
   "cell_type": "code",
   "execution_count": 27,
   "id": "28d83058",
   "metadata": {},
   "outputs": [],
   "source": [
    "del students[10]"
   ]
  },
  {
   "cell_type": "code",
   "execution_count": 28,
   "id": "da4e447c",
   "metadata": {},
   "outputs": [
    {
     "name": "stdout",
     "output_type": "stream",
     "text": [
      "['arvind', 'shafi', 'Chetan', 'david', 'nusrat', 'aradhya', 'nitya', 'asna', 'sachin', 'lavanya']\n"
     ]
    }
   ],
   "source": [
    "print(students)"
   ]
  },
  {
   "cell_type": "code",
   "execution_count": null,
   "id": "ea91257a",
   "metadata": {},
   "outputs": [],
   "source": []
  },
  {
   "cell_type": "code",
   "execution_count": null,
   "id": "bc66c07d",
   "metadata": {},
   "outputs": [],
   "source": []
  }
 ],
 "metadata": {
  "kernelspec": {
   "display_name": "Python 3 (ipykernel)",
   "language": "python",
   "name": "python3"
  },
  "language_info": {
   "codemirror_mode": {
    "name": "ipython",
    "version": 3
   },
   "file_extension": ".py",
   "mimetype": "text/x-python",
   "name": "python",
   "nbconvert_exporter": "python",
   "pygments_lexer": "ipython3",
   "version": "3.9.12"
  }
 },
 "nbformat": 4,
 "nbformat_minor": 5
}
